{
 "cells": [
  {
   "cell_type": "markdown",
   "id": "3ed9940c",
   "metadata": {},
   "source": [
    "### ArXiv Metadata Analysis\n",
    "#### Capstone Project, DSI-911 cohort, Lisa Paul\n",
    "\n",
    "**Current Notebook:** 00-json-to-csv\n",
    ">Run this First to read-in JSON data and perform preliminary data cleaning step"
   ]
  },
  {
   "cell_type": "code",
   "execution_count": 5,
   "id": "6aac9172",
   "metadata": {},
   "outputs": [],
   "source": [
    "import pandas as pd"
   ]
  },
  {
   "cell_type": "code",
   "execution_count": 6,
   "id": "349b6ba1",
   "metadata": {},
   "outputs": [],
   "source": [
    "#original data = 3 gigabyte JSON file\n",
    "#Then it was split into 48 smaller pieces, with these shell commands:\n",
    "#jq -c . < arxiv-metadata-oai-snapshot.json | gsplit -l 50000 --additional-suffix=.json - chunks_json/arxiv_meta_\n",
    "\n",
    "# Selecting input files for training and validation data\n",
    "# Using \"pseudorandomly\" chosen files within the -aa through -bv chunks\n",
    "# The original dataset is sorted by publication date\n",
    "# (as described in https://info.arxiv.org/help/arxiv_identifier_for_services.html)\n",
    "# This approach should partially mitigate any potential effects of date-related biases on the dataset\n",
    "\n",
    "train_file = 'arxiv_meta_aa.json'\n",
    "valid_file = 'arxiv_meta_bb.json'"
   ]
  },
  {
   "cell_type": "code",
   "execution_count": 9,
   "id": "c4c2a2f5",
   "metadata": {},
   "outputs": [],
   "source": [
    "data_path = '../data/'\n",
    "subdir = 'chunks_json/'\n",
    "\n",
    "#reads JSON file, outputs dataframe w/o multiple-\"categoried\" rows\n",
    "def single_cat(curr_file):\n",
    "    df = pd.read_json(data_path+subdir + curr_file, lines = True)\n",
    "\n",
    "    # Drop rows where 'categories' column contains multiple values\n",
    "    df = df[~df['categories'].str.contains('\\s')]\n",
    "\n",
    "    return df\n",
    "\n",
    "#writes out the dataframe to a csv file\n",
    "def df_to_csv(df, curr_file):\n",
    "    \n",
    "    #create filename\n",
    "    csv_partial = data_path + curr_file.rstrip('.json')\n",
    "    csv_file = csv_partial + '-single-cat' + '.csv'\n",
    "    \n",
    "    #output to filename\n",
    "    df.to_csv(csv_file, index=False)\n",
    "\n",
    "    return csv_file"
   ]
  },
  {
   "cell_type": "code",
   "execution_count": 10,
   "id": "c171362b",
   "metadata": {},
   "outputs": [
    {
     "data": {
      "text/plain": [
       "'../data/arxiv_meta_bb-single-cat.csv'"
      ]
     },
     "execution_count": 10,
     "metadata": {},
     "output_type": "execute_result"
    }
   ],
   "source": [
    "train_df = single_cat(train_file)\n",
    "df_to_csv(train_df, train_file)\n",
    "\n",
    "valid_df = single_cat(valid_file)\n",
    "df_to_csv(valid_df, valid_file)"
   ]
  },
  {
   "cell_type": "code",
   "execution_count": 11,
   "id": "cace3546",
   "metadata": {},
   "outputs": [
    {
     "data": {
      "text/plain": [
       "((32031, 14), (22154, 14))"
      ]
     },
     "execution_count": 11,
     "metadata": {},
     "output_type": "execute_result"
    }
   ],
   "source": [
    "train_df.shape, valid_df.shape\n",
    "#training file has now only 32031 records\n",
    "#validation file has now only 22154 records"
   ]
  },
  {
   "cell_type": "code",
   "execution_count": 13,
   "id": "0cea4617",
   "metadata": {},
   "outputs": [
    {
     "data": {
      "text/html": [
       "<div>\n",
       "<style scoped>\n",
       "    .dataframe tbody tr th:only-of-type {\n",
       "        vertical-align: middle;\n",
       "    }\n",
       "\n",
       "    .dataframe tbody tr th {\n",
       "        vertical-align: top;\n",
       "    }\n",
       "\n",
       "    .dataframe thead th {\n",
       "        text-align: right;\n",
       "    }\n",
       "</style>\n",
       "<table border=\"1\" class=\"dataframe\">\n",
       "  <thead>\n",
       "    <tr style=\"text-align: right;\">\n",
       "      <th></th>\n",
       "      <th>id</th>\n",
       "      <th>submitter</th>\n",
       "      <th>authors</th>\n",
       "      <th>title</th>\n",
       "      <th>comments</th>\n",
       "      <th>journal-ref</th>\n",
       "      <th>doi</th>\n",
       "      <th>report-no</th>\n",
       "      <th>categories</th>\n",
       "      <th>license</th>\n",
       "      <th>abstract</th>\n",
       "      <th>versions</th>\n",
       "      <th>update_date</th>\n",
       "      <th>authors_parsed</th>\n",
       "    </tr>\n",
       "  </thead>\n",
       "  <tbody>\n",
       "    <tr>\n",
       "      <th>0</th>\n",
       "      <td>704.0001</td>\n",
       "      <td>Pavel Nadolsky</td>\n",
       "      <td>C. Bal\\'azs, E. L. Berger, P. M. Nadolsky, C.-...</td>\n",
       "      <td>Calculation of prompt diphoton production cros...</td>\n",
       "      <td>37 pages, 15 figures; published version</td>\n",
       "      <td>Phys.Rev.D76:013009,2007</td>\n",
       "      <td>10.1103/PhysRevD.76.013009</td>\n",
       "      <td>ANL-HEP-PR-07-12</td>\n",
       "      <td>hep-ph</td>\n",
       "      <td>None</td>\n",
       "      <td>A fully differential calculation in perturba...</td>\n",
       "      <td>[{'version': 'v1', 'created': 'Mon, 2 Apr 2007...</td>\n",
       "      <td>2008-11-26</td>\n",
       "      <td>[[Balázs, C., ], [Berger, E. L., ], [Nadolsky,...</td>\n",
       "    </tr>\n",
       "  </tbody>\n",
       "</table>\n",
       "</div>"
      ],
      "text/plain": [
       "         id       submitter  \\\n",
       "0  704.0001  Pavel Nadolsky   \n",
       "\n",
       "                                             authors  \\\n",
       "0  C. Bal\\'azs, E. L. Berger, P. M. Nadolsky, C.-...   \n",
       "\n",
       "                                               title  \\\n",
       "0  Calculation of prompt diphoton production cros...   \n",
       "\n",
       "                                  comments               journal-ref  \\\n",
       "0  37 pages, 15 figures; published version  Phys.Rev.D76:013009,2007   \n",
       "\n",
       "                          doi         report-no categories license  \\\n",
       "0  10.1103/PhysRevD.76.013009  ANL-HEP-PR-07-12     hep-ph    None   \n",
       "\n",
       "                                            abstract  \\\n",
       "0    A fully differential calculation in perturba...   \n",
       "\n",
       "                                            versions update_date  \\\n",
       "0  [{'version': 'v1', 'created': 'Mon, 2 Apr 2007...  2008-11-26   \n",
       "\n",
       "                                      authors_parsed  \n",
       "0  [[Balázs, C., ], [Berger, E. L., ], [Nadolsky,...  "
      ]
     },
     "execution_count": 13,
     "metadata": {},
     "output_type": "execute_result"
    }
   ],
   "source": [
    "train_df.head(1)"
   ]
  },
  {
   "cell_type": "code",
   "execution_count": 14,
   "id": "f8854f74",
   "metadata": {},
   "outputs": [
    {
     "data": {
      "text/html": [
       "<div>\n",
       "<style scoped>\n",
       "    .dataframe tbody tr th:only-of-type {\n",
       "        vertical-align: middle;\n",
       "    }\n",
       "\n",
       "    .dataframe tbody tr th {\n",
       "        vertical-align: top;\n",
       "    }\n",
       "\n",
       "    .dataframe thead th {\n",
       "        text-align: right;\n",
       "    }\n",
       "</style>\n",
       "<table border=\"1\" class=\"dataframe\">\n",
       "  <thead>\n",
       "    <tr style=\"text-align: right;\">\n",
       "      <th></th>\n",
       "      <th>id</th>\n",
       "      <th>submitter</th>\n",
       "      <th>authors</th>\n",
       "      <th>title</th>\n",
       "      <th>comments</th>\n",
       "      <th>journal-ref</th>\n",
       "      <th>doi</th>\n",
       "      <th>report-no</th>\n",
       "      <th>categories</th>\n",
       "      <th>license</th>\n",
       "      <th>abstract</th>\n",
       "      <th>versions</th>\n",
       "      <th>update_date</th>\n",
       "      <th>authors_parsed</th>\n",
       "    </tr>\n",
       "  </thead>\n",
       "  <tbody>\n",
       "    <tr>\n",
       "      <th>2</th>\n",
       "      <td>2009.08499</td>\n",
       "      <td>Benjamin Kay</td>\n",
       "      <td>B. P. Kay, J. P. Schiffer, S. J. Freeman, T. L...</td>\n",
       "      <td>Consistency of nucleon-transfer sum rules in w...</td>\n",
       "      <td>7 pages, 4 figures</td>\n",
       "      <td>Phys. Rev. C 103, 024319 (2021)</td>\n",
       "      <td>10.1103/PhysRevC.103.024319</td>\n",
       "      <td>None</td>\n",
       "      <td>nucl-ex</td>\n",
       "      <td>http://arxiv.org/licenses/nonexclusive-distrib...</td>\n",
       "      <td>Nucleon-transfer sum rules have been assesse...</td>\n",
       "      <td>[{'version': 'v1', 'created': 'Thu, 17 Sep 202...</td>\n",
       "      <td>2021-03-03</td>\n",
       "      <td>[[Kay, B. P., ], [Schiffer, J. P., ], [Freeman...</td>\n",
       "    </tr>\n",
       "  </tbody>\n",
       "</table>\n",
       "</div>"
      ],
      "text/plain": [
       "           id     submitter  \\\n",
       "2  2009.08499  Benjamin Kay   \n",
       "\n",
       "                                             authors  \\\n",
       "2  B. P. Kay, J. P. Schiffer, S. J. Freeman, T. L...   \n",
       "\n",
       "                                               title            comments  \\\n",
       "2  Consistency of nucleon-transfer sum rules in w...  7 pages, 4 figures   \n",
       "\n",
       "                       journal-ref                          doi report-no  \\\n",
       "2  Phys. Rev. C 103, 024319 (2021)  10.1103/PhysRevC.103.024319      None   \n",
       "\n",
       "  categories                                            license  \\\n",
       "2    nucl-ex  http://arxiv.org/licenses/nonexclusive-distrib...   \n",
       "\n",
       "                                            abstract  \\\n",
       "2    Nucleon-transfer sum rules have been assesse...   \n",
       "\n",
       "                                            versions update_date  \\\n",
       "2  [{'version': 'v1', 'created': 'Thu, 17 Sep 202...  2021-03-03   \n",
       "\n",
       "                                      authors_parsed  \n",
       "2  [[Kay, B. P., ], [Schiffer, J. P., ], [Freeman...  "
      ]
     },
     "execution_count": 14,
     "metadata": {},
     "output_type": "execute_result"
    }
   ],
   "source": [
    "\n",
    "valid_df.head(1)"
   ]
  },
  {
   "cell_type": "markdown",
   "id": "4d7d30f7",
   "metadata": {},
   "source": [
    "### Next file: Preprocessing \n",
    "#### (using the CSVs we now have)"
   ]
  },
  {
   "cell_type": "code",
   "execution_count": null,
   "id": "cc7fd205",
   "metadata": {},
   "outputs": [],
   "source": []
  },
  {
   "cell_type": "code",
   "execution_count": null,
   "id": "af5db350",
   "metadata": {},
   "outputs": [],
   "source": []
  },
  {
   "cell_type": "code",
   "execution_count": null,
   "id": "f8d7b371",
   "metadata": {},
   "outputs": [],
   "source": []
  }
 ],
 "metadata": {
  "kernelspec": {
   "display_name": "Python 3 (ipykernel)",
   "language": "python",
   "name": "python3"
  },
  "language_info": {
   "codemirror_mode": {
    "name": "ipython",
    "version": 3
   },
   "file_extension": ".py",
   "mimetype": "text/x-python",
   "name": "python",
   "nbconvert_exporter": "python",
   "pygments_lexer": "ipython3",
   "version": "3.11.4"
  }
 },
 "nbformat": 4,
 "nbformat_minor": 5
}

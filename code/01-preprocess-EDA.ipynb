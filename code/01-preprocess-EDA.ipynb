{
 "cells": [
  {
   "cell_type": "markdown",
   "id": "f6c281db",
   "metadata": {},
   "source": [
    "### ArXiv Metadata Analysis\n",
    "#### Capstone Project, DSI-911 cohort, Lisa Paul\n",
    "\n",
    "**Current Notebook:** 01-preprocess-EDA\n",
    ">Run this Second to read-in testing & training CSV data, then encode pred-column, add features (columns)"
   ]
  },
  {
   "cell_type": "code",
   "execution_count": 2,
   "id": "37fac508",
   "metadata": {},
   "outputs": [
    {
     "name": "stderr",
     "output_type": "stream",
     "text": [
      "[nltk_data] Downloading package punkt to /Users/lisapaul/nltk_data...\n",
      "[nltk_data]   Package punkt is already up-to-date!\n",
      "[nltk_data] Downloading package stopwords to\n",
      "[nltk_data]     /Users/lisapaul/nltk_data...\n",
      "[nltk_data]   Package stopwords is already up-to-date!\n"
     ]
    },
    {
     "data": {
      "text/plain": [
       "True"
      ]
     },
     "execution_count": 2,
     "metadata": {},
     "output_type": "execute_result"
    }
   ],
   "source": [
    "import pandas as pd\n",
    "import numpy as np\n",
    "import matplotlib.pyplot as plt\n",
    "import seaborn as sns\n",
    "\n",
    "from sklearn.preprocessing import LabelEncoder\n",
    "from sklearn.model_selection import train_test_split, GridSearchCV\n",
    "from sklearn.feature_extraction.text import CountVectorizer\n",
    "from sklearn.naive_bayes import MultinomialNB\n",
    "\n",
    "from nltk.tokenize import word_tokenize\n",
    "from nltk.corpus import stopwords\n",
    "import nltk\n",
    "nltk.download('punkt')  # For word tokenization\n",
    "nltk.download('stopwords')  # For stopwords removal\n",
    "\n"
   ]
  },
  {
   "cell_type": "code",
   "execution_count": 29,
   "id": "dbd456d7",
   "metadata": {},
   "outputs": [],
   "source": [
    "img_path = '../images/'\n",
    "\n",
    "data_path = '../data/'\n",
    "\n",
    "orig_df = pd.read_csv(data_path + \"arxiv_meta_aa-single-cat.csv\")"
   ]
  },
  {
   "cell_type": "code",
   "execution_count": 4,
   "id": "f59f9f97",
   "metadata": {
    "scrolled": false
   },
   "outputs": [
    {
     "data": {
      "text/html": [
       "<div>\n",
       "<style scoped>\n",
       "    .dataframe tbody tr th:only-of-type {\n",
       "        vertical-align: middle;\n",
       "    }\n",
       "\n",
       "    .dataframe tbody tr th {\n",
       "        vertical-align: top;\n",
       "    }\n",
       "\n",
       "    .dataframe thead th {\n",
       "        text-align: right;\n",
       "    }\n",
       "</style>\n",
       "<table border=\"1\" class=\"dataframe\">\n",
       "  <thead>\n",
       "    <tr style=\"text-align: right;\">\n",
       "      <th></th>\n",
       "      <th>id</th>\n",
       "      <th>submitter</th>\n",
       "      <th>authors</th>\n",
       "      <th>title</th>\n",
       "      <th>comments</th>\n",
       "      <th>journal-ref</th>\n",
       "      <th>doi</th>\n",
       "      <th>report-no</th>\n",
       "      <th>categories</th>\n",
       "      <th>license</th>\n",
       "      <th>abstract</th>\n",
       "      <th>versions</th>\n",
       "      <th>update_date</th>\n",
       "      <th>authors_parsed</th>\n",
       "    </tr>\n",
       "  </thead>\n",
       "  <tbody>\n",
       "    <tr>\n",
       "      <th>0</th>\n",
       "      <td>704.0001</td>\n",
       "      <td>Pavel Nadolsky</td>\n",
       "      <td>C. Bal\\'azs, E. L. Berger, P. M. Nadolsky, C.-...</td>\n",
       "      <td>Calculation of prompt diphoton production cros...</td>\n",
       "      <td>37 pages, 15 figures; published version</td>\n",
       "      <td>Phys.Rev.D76:013009,2007</td>\n",
       "      <td>10.1103/PhysRevD.76.013009</td>\n",
       "      <td>ANL-HEP-PR-07-12</td>\n",
       "      <td>hep-ph</td>\n",
       "      <td>NaN</td>\n",
       "      <td>A fully differential calculation in perturba...</td>\n",
       "      <td>[{'version': 'v1', 'created': 'Mon, 2 Apr 2007...</td>\n",
       "      <td>2008-11-26</td>\n",
       "      <td>[['Balázs', 'C.', ''], ['Berger', 'E. L.', '']...</td>\n",
       "    </tr>\n",
       "  </tbody>\n",
       "</table>\n",
       "</div>"
      ],
      "text/plain": [
       "         id       submitter  \\\n",
       "0  704.0001  Pavel Nadolsky   \n",
       "\n",
       "                                             authors  \\\n",
       "0  C. Bal\\'azs, E. L. Berger, P. M. Nadolsky, C.-...   \n",
       "\n",
       "                                               title  \\\n",
       "0  Calculation of prompt diphoton production cros...   \n",
       "\n",
       "                                  comments               journal-ref  \\\n",
       "0  37 pages, 15 figures; published version  Phys.Rev.D76:013009,2007   \n",
       "\n",
       "                          doi         report-no categories license  \\\n",
       "0  10.1103/PhysRevD.76.013009  ANL-HEP-PR-07-12     hep-ph     NaN   \n",
       "\n",
       "                                            abstract  \\\n",
       "0    A fully differential calculation in perturba...   \n",
       "\n",
       "                                            versions update_date  \\\n",
       "0  [{'version': 'v1', 'created': 'Mon, 2 Apr 2007...  2008-11-26   \n",
       "\n",
       "                                      authors_parsed  \n",
       "0  [['Balázs', 'C.', ''], ['Berger', 'E. L.', '']...  "
      ]
     },
     "execution_count": 4,
     "metadata": {},
     "output_type": "execute_result"
    }
   ],
   "source": [
    "orig_df.head(1)\n"
   ]
  },
  {
   "cell_type": "code",
   "execution_count": 5,
   "id": "ad476f17",
   "metadata": {},
   "outputs": [
    {
     "data": {
      "text/plain": [
       "(32031, 14)"
      ]
     },
     "execution_count": 5,
     "metadata": {},
     "output_type": "execute_result"
    }
   ],
   "source": [
    "#training file has only 32031 records (because of previous cleaning)\n",
    "orig_df.shape"
   ]
  },
  {
   "cell_type": "code",
   "execution_count": 6,
   "id": "c1e0b25a",
   "metadata": {},
   "outputs": [],
   "source": [
    "#function to encode the categories (research fields)\n",
    "def encode_cats(df):\n",
    "    # Make a copy of the DataFrame to avoid modifying the original data\n",
    "    encoded_df = df.copy()\n",
    "    \n",
    "    # which column to encode? confusingly: \"categories\"\n",
    "    categorical_column = encoded_df['categories']\n",
    "\n",
    "    #Instance the encoder\n",
    "    le = LabelEncoder()\n",
    "\n",
    "    # Encode 'categories' column\n",
    "    encoded_df['numeric_categories'] = le.fit_transform(categorical_column)\n",
    "    \n",
    "    return encoded_df\n"
   ]
  },
  {
   "cell_type": "code",
   "execution_count": 7,
   "id": "4a771b79",
   "metadata": {
    "scrolled": true
   },
   "outputs": [
    {
     "data": {
      "text/plain": [
       "Index(['id', 'submitter', 'authors', 'title', 'comments', 'journal-ref', 'doi',\n",
       "       'report-no', 'categories', 'license', 'abstract', 'versions',\n",
       "       'update_date', 'authors_parsed', 'numeric_categories'],\n",
       "      dtype='object')"
      ]
     },
     "execution_count": 7,
     "metadata": {},
     "output_type": "execute_result"
    }
   ],
   "source": [
    "#Call this function exactly once (per df) to create df w/ one extra column\n",
    "#Cleaner code would be to call this //within// the feature-adding function\n",
    "encoded_df = encode_cats(orig_df)\n",
    "\n",
    "encoded_df.columns"
   ]
  },
  {
   "cell_type": "code",
   "execution_count": 8,
   "id": "b0358ab4",
   "metadata": {},
   "outputs": [
    {
     "data": {
      "text/plain": [
       "(32031, 15)"
      ]
     },
     "execution_count": 8,
     "metadata": {},
     "output_type": "execute_result"
    }
   ],
   "source": [
    "encoded_df.shape\n",
    "#correctly has 1 extra column now"
   ]
  },
  {
   "cell_type": "code",
   "execution_count": 9,
   "id": "d316d153",
   "metadata": {},
   "outputs": [
    {
     "name": "stdout",
     "output_type": "stream",
     "text": [
      "Unique CategoryNames:\t 120 \n",
      "Unique CategoryNums:\t 120\n"
     ]
    }
   ],
   "source": [
    "print (\"Unique CategoryNames:\\t\", \n",
    "        len(encoded_df['categories'].unique()),  \n",
    "       \"\\nUnique CategoryNums:\\t\", \n",
    "       len(encoded_df['numeric_categories'].unique())\n",
    "      )"
   ]
  },
  {
   "cell_type": "code",
   "execution_count": null,
   "id": "67a07a69",
   "metadata": {},
   "outputs": [],
   "source": []
  },
  {
   "cell_type": "markdown",
   "id": "5de073c8",
   "metadata": {},
   "source": [
    "#### Function to drop the columns I don't want."
   ]
  },
  {
   "cell_type": "code",
   "execution_count": 10,
   "id": "fc58dc69",
   "metadata": {},
   "outputs": [],
   "source": [
    "def drop_cols(df):\n",
    "    \n",
    "    cols_to_keep = ['id', 'title', 'abstract', 'categories', 'numeric_categories'\n",
    "]\n",
    "    smaller_df = df[cols_to_keep]\n",
    "    \n",
    "    return smaller_df"
   ]
  },
  {
   "cell_type": "code",
   "execution_count": 11,
   "id": "dc1cb5a7",
   "metadata": {},
   "outputs": [
    {
     "data": {
      "text/plain": [
       "(32031, 5)"
      ]
     },
     "execution_count": 11,
     "metadata": {},
     "output_type": "execute_result"
    }
   ],
   "source": [
    "smaller_df = drop_cols(encoded_df)\n",
    "smaller_df.shape"
   ]
  },
  {
   "cell_type": "code",
   "execution_count": 12,
   "id": "13df1714",
   "metadata": {},
   "outputs": [],
   "source": [
    "#I'm going to use this and skip all that feature eng for now"
   ]
  },
  {
   "cell_type": "code",
   "execution_count": null,
   "id": "baec2056",
   "metadata": {},
   "outputs": [],
   "source": []
  },
  {
   "cell_type": "code",
   "execution_count": null,
   "id": "e908f2fc",
   "metadata": {},
   "outputs": [],
   "source": []
  },
  {
   "cell_type": "markdown",
   "id": "66b8e3e5",
   "metadata": {},
   "source": [
    "#### The **add_text_features** function will add some new features (based on NLP of the abstract).\n",
    "> I used chatGPT to suggest solutions to type errors\n",
    "\n",
    "> These features will almost all be ignored for the preliminary model.\n"
   ]
  },
  {
   "cell_type": "code",
   "execution_count": 13,
   "id": "8e02f2f6",
   "metadata": {},
   "outputs": [],
   "source": [
    "\n",
    "def add_text_features(df):\n",
    "    \n",
    "    featured_df = df.copy()\n",
    "    \n",
    "    #Create new column containing list of the words in the abstract (for each row)\n",
    "    abs_tokens = featured_df['abstract'].apply(word_tokenize)\n",
    "    featured_df['abs_tokens'] = abs_tokens\n",
    "\n",
    "    # Create new column containing abstract wordlist _without_ stopwords\n",
    "    # apply stopword removal across all rows\n",
    "    abs_no_sw = abs_tokens.apply(lambda tokens: [token for token in tokens if token.lower() not in stopwords.words('english')])\n",
    "    featured_df['abs_tokens_no_sw'] = abs_no_sw\n",
    "    \n",
    "    \n",
    "    # Most additional features are based on previous stopword removal: \n",
    "    \n",
    "    # Create new column for the count of unique words\n",
    "    unique_wc = abs_no_sw.apply(tuple).nunique()\n",
    "    featured_df['unique_wc'] = unique_wc\n",
    "\n",
    "    # Create new column for the total word count\n",
    "    wc = abs_no_sw.apply(len).sum()\n",
    "    featured_df['wc'] = wc\n",
    "\n",
    "    # Create new column for the ratio of unique wc to total wc\n",
    "    unique_words_ratio = unique_wc / wc\n",
    "    featured_df['unique_words_ratio'] = unique_words_ratio\n",
    "\n",
    "\n",
    "    return featured_df"
   ]
  },
  {
   "cell_type": "markdown",
   "id": "edf9021c",
   "metadata": {},
   "source": [
    "#### More thoughts about add_text_features():\n",
    "\n",
    "#### Another less-interpretable approach  would be to do Vectorizing, instead of creating all these data manually.\n",
    "#####     TF-IDF would be better than CountVectorizer because:\n",
    "> - considers the context of the entire dataframe, and penalizes common words across rows\n",
    "> - thus \"ignoring\" the noisy ones that aren't useful for classifying\n",
    "        \n",
    "##### Assuming, however, that I manually created more features, here are a few that could be interesting or useful:\n",
    "> Create new columns for 1 or 2 parts of speech (e.g., noun, adjective)\n",
    ">   - nltk.pos_tag() \n",
    "\n",
    "> Or, features which require original abstract, not tokenized:\n",
    ">   - Create a new column for counting special characters\n",
    ">   - Add a column for general char_count\n",
    ">   - Same for readability scores such as Flesch-Kincaid or SMOG\n",
    "\n"
   ]
  },
  {
   "cell_type": "markdown",
   "id": "f7033ecb",
   "metadata": {},
   "source": [
    "\n",
    "For the expanded study/analysis, we want to use 2 separate csv chunks of the original dataset\n",
    "For the preliminary study, after slow performance processing 2 dataframes, coupled with extremely large files that caused GitHub warnings\n",
    "I decided to go with Train Test Split method after all, which only needs 1 dataframe here."
   ]
  },
  {
   "cell_type": "code",
   "execution_count": 14,
   "id": "16aa0e47",
   "metadata": {
    "scrolled": true
   },
   "outputs": [
    {
     "name": "stdout",
     "output_type": "stream",
     "text": [
      "CPU times: user 8min 14s, sys: 1min 58s, total: 10min 13s\n",
      "Wall time: 12min 35s\n"
     ]
    }
   ],
   "source": [
    "%%time \n",
    "#call on only 1 dataframe, because more  is out of scope for \"prelim study\"\n",
    "featured_df = add_text_features(smaller_df)\n"
   ]
  },
  {
   "cell_type": "code",
   "execution_count": 15,
   "id": "63decf34",
   "metadata": {
    "scrolled": false
   },
   "outputs": [
    {
     "data": {
      "text/plain": [
       "(32031, 10)"
      ]
     },
     "execution_count": 15,
     "metadata": {},
     "output_type": "execute_result"
    }
   ],
   "source": [
    "featured_df.shape"
   ]
  },
  {
   "cell_type": "code",
   "execution_count": 16,
   "id": "c4565497",
   "metadata": {},
   "outputs": [
    {
     "data": {
      "text/plain": [
       "Index(['id', 'title', 'abstract', 'categories', 'numeric_categories',\n",
       "       'abs_tokens', 'abs_tokens_no_sw', 'unique_wc', 'wc',\n",
       "       'unique_words_ratio'],\n",
       "      dtype='object')"
      ]
     },
     "execution_count": 16,
     "metadata": {},
     "output_type": "execute_result"
    }
   ],
   "source": [
    "featured_df.columns"
   ]
  },
  {
   "cell_type": "code",
   "execution_count": 17,
   "id": "8ebc75e0",
   "metadata": {},
   "outputs": [
    {
     "data": {
      "text/plain": [
       "0        [fully, differential, calculation, perturbativ...\n",
       "1        [evolution, Earth-Moon, system, described, dar...\n",
       "2        [show, determinant, Stirling, cycle, numbers, ...\n",
       "3        [study, two-particle, wave, function, paired, ...\n",
       "4        [rather, non-standard, quantum, representation...\n",
       "                               ...                        \n",
       "32026    [assumption, matter, charges, currents, could,...\n",
       "32027    [low-temperature, behavior, Casimir-Polder, fr...\n",
       "32028    [shown, steady, state, probability, distributi...\n",
       "32029    [vector, $, r=, (, r_1, ,, ..., ,, r_n, ), $, ...\n",
       "32030    [study, corrections, due, two, Pomeron, exchan...\n",
       "Name: abs_tokens_no_sw, Length: 32031, dtype: object"
      ]
     },
     "execution_count": 17,
     "metadata": {},
     "output_type": "execute_result"
    }
   ],
   "source": [
    "featured_df['abs_tokens_no_sw']"
   ]
  },
  {
   "cell_type": "code",
   "execution_count": 18,
   "id": "9e360e4b",
   "metadata": {},
   "outputs": [],
   "source": [
    "#Save enhanced dataframes to a csv file:\n",
    "#currently 96.38 MB\n",
    "featured_df.to_csv(data_path + \"featured.csv\", index=False)\n"
   ]
  },
  {
   "cell_type": "markdown",
   "id": "6f26be54",
   "metadata": {},
   "source": [
    "#### Those look great, but I need to scale back for prelim model"
   ]
  },
  {
   "cell_type": "code",
   "execution_count": null,
   "id": "b31039ca",
   "metadata": {},
   "outputs": [],
   "source": [
    "\n"
   ]
  },
  {
   "cell_type": "markdown",
   "id": "7769d13e",
   "metadata": {},
   "source": [
    "#### Next, EDA!\n",
    "\n",
    "\n",
    "Let's see which, if any features will be useful to use for prediction modelling:"
   ]
  },
  {
   "cell_type": "markdown",
   "id": "aeebfaff",
   "metadata": {},
   "source": [
    "Q: Do a **correlations heatmap**, to find what goes with preds (cats)?\n",
    " \n",
    "> A: not yet, because I have string data in there!\n",
    "(If I wanted to, I would start by dropping columns, to create a numeric-only dataframe)\n"
   ]
  },
  {
   "cell_type": "code",
   "execution_count": 19,
   "id": "c50243c5",
   "metadata": {},
   "outputs": [],
   "source": [
    "#Unrelatedly, I'm going to remove the extra numeric features, to simplify code and modeling\n",
    "columns_to_remove = ['unique_wc', 'wc', 'unique_words_ratio']\n",
    "tokened_df = featured_df.drop(columns=columns_to_remove)\n"
   ]
  },
  {
   "cell_type": "code",
   "execution_count": 23,
   "id": "636fe015",
   "metadata": {
    "scrolled": false
   },
   "outputs": [
    {
     "name": "stdout",
     "output_type": "stream",
     "text": [
      "categories\n",
      "astro-ph             8529\n",
      "hep-ph               2697\n",
      "quant-ph             2165\n",
      "hep-th               1871\n",
      "cond-mat.mtrl-sci    1050\n",
      "gr-qc                1000\n",
      "cond-mat.mes-hall     872\n",
      "nucl-th               725\n",
      "hep-ex                723\n",
      "cond-mat.str-el       717\n",
      "Name: count, dtype: int64\n"
     ]
    }
   ],
   "source": [
    "def top_ten(column):\n",
    "    ten_top_cats = column.value_counts().head(10)\n",
    "    return ten_top_cats\n",
    "\n",
    "top_num_cats = top_ten(tokened_df['numeric_categories'])\n",
    "top_str_cats = top_ten(tokened_df['categories'])\n",
    "print(top_str_cats)"
   ]
  },
  {
   "cell_type": "code",
   "execution_count": 30,
   "id": "92f5d3b8",
   "metadata": {
    "scrolled": true
   },
   "outputs": [
    {
     "data": {
      "image/png": "[encoded data removed]",
      "text/plain": [
       "<Figure size 1000x600 with 1 Axes>"
      ]
     },
     "metadata": {},
     "output_type": "display_data"
    }
   ],
   "source": [
    "\n",
    "# Plot the top categories\n",
    "plt.figure(figsize=(10, 6))\n",
    "sns.countplot(x='categories', data=tokened_df, order=top_str_cats.index)\n",
    "plt.title('Top 10 Nominal Categories')\n",
    "plt.savefig(img_path+'top_categories_plot.png', dpi=300)\n",
    "plt.show()\n"
   ]
  },
  {
   "cell_type": "markdown",
   "id": "13423c27",
   "metadata": {},
   "source": [
    "#### This is pretty imbalanced! "
   ]
  },
  {
   "cell_type": "markdown",
   "id": "c40b4092",
   "metadata": {},
   "source": [
    "\n",
    "\n",
    "#### Next, let's get ready to do some modeling!"
   ]
  },
  {
   "cell_type": "code",
   "execution_count": 31,
   "id": "2b4d2601",
   "metadata": {},
   "outputs": [
    {
     "data": {
      "text/html": [
       "<div>\n",
       "<style scoped>\n",
       "    .dataframe tbody tr th:only-of-type {\n",
       "        vertical-align: middle;\n",
       "    }\n",
       "\n",
       "    .dataframe tbody tr th {\n",
       "        vertical-align: top;\n",
       "    }\n",
       "\n",
       "    .dataframe thead th {\n",
       "        text-align: right;\n",
       "    }\n",
       "</style>\n",
       "<table border=\"1\" class=\"dataframe\">\n",
       "  <thead>\n",
       "    <tr style=\"text-align: right;\">\n",
       "      <th></th>\n",
       "      <th>abstract</th>\n",
       "    </tr>\n",
       "  </thead>\n",
       "  <tbody>\n",
       "    <tr>\n",
       "      <th>0</th>\n",
       "      <td>a fully differential calculation in perturba...</td>\n",
       "    </tr>\n",
       "  </tbody>\n",
       "</table>\n",
       "</div>"
      ],
      "text/plain": [
       "                                            abstract\n",
       "0    a fully differential calculation in perturba..."
      ]
     },
     "execution_count": 31,
     "metadata": {},
     "output_type": "execute_result"
    }
   ],
   "source": [
    "#premodel (including pre-TTS) processing\n",
    "\n",
    "#scaling back, prelim model, etc.\n",
    "cols_to_remove = ['categories', 'numeric_categories', 'title', 'abs_tokens', 'abs_tokens_no_sw', 'id']\n",
    "\n",
    "# Separate features (X) and target variable (y)\n",
    "X = tokened_df.drop(cols_to_remove, axis=1)\n",
    "y = tokened_df['numeric_categories']\n",
    "\n",
    "\n",
    "X['abstract'] = X['abstract'].str.lower()\n",
    "X.head(1)\n"
   ]
  },
  {
   "cell_type": "code",
   "execution_count": 32,
   "id": "9ef7837a",
   "metadata": {},
   "outputs": [
    {
     "data": {
      "text/plain": [
       "0    46\n",
       "Name: numeric_categories, dtype: int64"
      ]
     },
     "execution_count": 32,
     "metadata": {},
     "output_type": "execute_result"
    }
   ],
   "source": [
    "y.head(1)"
   ]
  },
  {
   "cell_type": "markdown",
   "id": "e3cf51e0",
   "metadata": {},
   "source": [
    "#### Due to severe imbalance, let's remove rows in uncommon categories!\n"
   ]
  },
  {
   "cell_type": "code",
   "execution_count": 34,
   "id": "c7e64ce7",
   "metadata": {
    "scrolled": true
   },
   "outputs": [
    {
     "name": "stdout",
     "output_type": "stream",
     "text": [
      "Original Shapes: (32031, 1) (32031,)\n",
      "Filtered Shapes: (31963, 1) (31963,)\n"
     ]
    }
   ],
   "source": [
    "#This cell uses some chatGPT syntax for expediency\n",
    "\n",
    "# Set a threshold for the minimum number of samples per class\n",
    "threshold = 10\n",
    "\n",
    "# Count the occurrences of each class\n",
    "class_counts = pd.Series(y).value_counts()\n",
    "\n",
    "# Filter classes that meet the threshold\n",
    "valid_classes = class_counts[class_counts >= threshold].index\n",
    "\n",
    "# Filter the data and labels based on valid classes\n",
    "X_filtered = X[y.isin(valid_classes)]\n",
    "y_filtered = y[y.isin(valid_classes)]\n",
    "\n",
    "# Print the updated shapes\n",
    "print(\"Original Shapes:\", X.shape, y.shape)\n",
    "print(\"Filtered Shapes:\", X_filtered.shape, y_filtered.shape)\n"
   ]
  },
  {
   "cell_type": "code",
   "execution_count": null,
   "id": "9fa8addd",
   "metadata": {},
   "outputs": [],
   "source": []
  },
  {
   "cell_type": "code",
   "execution_count": null,
   "id": "37e65930",
   "metadata": {},
   "outputs": [],
   "source": [
    "#### Due to errors, this will follow closely on lesson 505, NLP 2:"
   ]
  },
  {
   "cell_type": "code",
   "execution_count": 35,
   "id": "ac2a2cf8",
   "metadata": {},
   "outputs": [],
   "source": [
    "# Split the data into the training and testing sets.\n",
    "X_train, X_test, y_train, y_test = train_test_split(X,\n",
    "                                                    y,\n",
    "                                                    random_state=42)"
   ]
  },
  {
   "cell_type": "code",
   "execution_count": 36,
   "id": "26846294",
   "metadata": {},
   "outputs": [
    {
     "data": {
      "text/plain": [
       "numeric_categories\n",
       "0      0.260490\n",
       "46     0.081419\n",
       "115    0.072927\n",
       "47     0.060440\n",
       "43     0.031344\n",
       "         ...   \n",
       "32     0.000125\n",
       "104    0.000125\n",
       "38     0.000125\n",
       "20     0.000125\n",
       "33     0.000125\n",
       "Name: proportion, Length: 116, dtype: float64"
      ]
     },
     "execution_count": 36,
     "metadata": {},
     "output_type": "execute_result"
    }
   ],
   "source": [
    "y_test.value_counts(normalize = True)\n"
   ]
  },
  {
   "cell_type": "code",
   "execution_count": 39,
   "id": "e651ae35",
   "metadata": {
    "scrolled": true
   },
   "outputs": [
    {
     "ename": "AttributeError",
     "evalue": "'csr_matrix' object has no attribute 'lower'",
     "output_type": "error",
     "traceback": [
      "\u001b[0;31m---------------------------------------------------------------------------\u001b[0m",
      "\u001b[0;31mAttributeError\u001b[0m                            Traceback (most recent call last)",
      "Cell \u001b[0;32mIn[39], line 6\u001b[0m\n\u001b[1;32m      2\u001b[0m cvec \u001b[38;5;241m=\u001b[39m CountVectorizer(stop_words \u001b[38;5;241m=\u001b[39m \u001b[38;5;124m'\u001b[39m\u001b[38;5;124menglish\u001b[39m\u001b[38;5;124m'\u001b[39m)\n\u001b[1;32m      5\u001b[0m \u001b[38;5;66;03m# Fit the vectorizer on our corpus.\u001b[39;00m\n\u001b[0;32m----> 6\u001b[0m cvec\u001b[38;5;241m.\u001b[39mfit(X_train)\n\u001b[1;32m      8\u001b[0m \u001b[38;5;66;03m# Transform the corpus.\u001b[39;00m\n\u001b[1;32m      9\u001b[0m X_train \u001b[38;5;241m=\u001b[39m cvec\u001b[38;5;241m.\u001b[39mtransform(X_train)\n",
      "File \u001b[0;32m~/anaconda3/lib/python3.11/site-packages/sklearn/feature_extraction/text.py:1334\u001b[0m, in \u001b[0;36mCountVectorizer.fit\u001b[0;34m(self, raw_documents, y)\u001b[0m\n\u001b[1;32m   1318\u001b[0m \u001b[38;5;28;01mdef\u001b[39;00m \u001b[38;5;21mfit\u001b[39m(\u001b[38;5;28mself\u001b[39m, raw_documents, y\u001b[38;5;241m=\u001b[39m\u001b[38;5;28;01mNone\u001b[39;00m):\n\u001b[1;32m   1319\u001b[0m \u001b[38;5;250m    \u001b[39m\u001b[38;5;124;03m\"\"\"Learn a vocabulary dictionary of all tokens in the raw documents.\u001b[39;00m\n\u001b[1;32m   1320\u001b[0m \n\u001b[1;32m   1321\u001b[0m \u001b[38;5;124;03m    Parameters\u001b[39;00m\n\u001b[0;32m   (...)\u001b[0m\n\u001b[1;32m   1332\u001b[0m \u001b[38;5;124;03m        Fitted vectorizer.\u001b[39;00m\n\u001b[1;32m   1333\u001b[0m \u001b[38;5;124;03m    \"\"\"\u001b[39;00m\n\u001b[0;32m-> 1334\u001b[0m     \u001b[38;5;28mself\u001b[39m\u001b[38;5;241m.\u001b[39mfit_transform(raw_documents)\n\u001b[1;32m   1335\u001b[0m     \u001b[38;5;28;01mreturn\u001b[39;00m \u001b[38;5;28mself\u001b[39m\n",
      "File \u001b[0;32m~/anaconda3/lib/python3.11/site-packages/sklearn/base.py:1151\u001b[0m, in \u001b[0;36m_fit_context.<locals>.decorator.<locals>.wrapper\u001b[0;34m(estimator, *args, **kwargs)\u001b[0m\n\u001b[1;32m   1144\u001b[0m     estimator\u001b[38;5;241m.\u001b[39m_validate_params()\n\u001b[1;32m   1146\u001b[0m \u001b[38;5;28;01mwith\u001b[39;00m config_context(\n\u001b[1;32m   1147\u001b[0m     skip_parameter_validation\u001b[38;5;241m=\u001b[39m(\n\u001b[1;32m   1148\u001b[0m         prefer_skip_nested_validation \u001b[38;5;129;01mor\u001b[39;00m global_skip_validation\n\u001b[1;32m   1149\u001b[0m     )\n\u001b[1;32m   1150\u001b[0m ):\n\u001b[0;32m-> 1151\u001b[0m     \u001b[38;5;28;01mreturn\u001b[39;00m fit_method(estimator, \u001b[38;5;241m*\u001b[39margs, \u001b[38;5;241m*\u001b[39m\u001b[38;5;241m*\u001b[39mkwargs)\n",
      "File \u001b[0;32m~/anaconda3/lib/python3.11/site-packages/sklearn/feature_extraction/text.py:1383\u001b[0m, in \u001b[0;36mCountVectorizer.fit_transform\u001b[0;34m(self, raw_documents, y)\u001b[0m\n\u001b[1;32m   1375\u001b[0m             warnings\u001b[38;5;241m.\u001b[39mwarn(\n\u001b[1;32m   1376\u001b[0m                 \u001b[38;5;124m\"\u001b[39m\u001b[38;5;124mUpper case characters found in\u001b[39m\u001b[38;5;124m\"\u001b[39m\n\u001b[1;32m   1377\u001b[0m                 \u001b[38;5;124m\"\u001b[39m\u001b[38;5;124m vocabulary while \u001b[39m\u001b[38;5;124m'\u001b[39m\u001b[38;5;124mlowercase\u001b[39m\u001b[38;5;124m'\u001b[39m\u001b[38;5;124m\"\u001b[39m\n\u001b[1;32m   1378\u001b[0m                 \u001b[38;5;124m\"\u001b[39m\u001b[38;5;124m is True. These entries will not\u001b[39m\u001b[38;5;124m\"\u001b[39m\n\u001b[1;32m   1379\u001b[0m                 \u001b[38;5;124m\"\u001b[39m\u001b[38;5;124m be matched with any documents\u001b[39m\u001b[38;5;124m\"\u001b[39m\n\u001b[1;32m   1380\u001b[0m             )\n\u001b[1;32m   1381\u001b[0m             \u001b[38;5;28;01mbreak\u001b[39;00m\n\u001b[0;32m-> 1383\u001b[0m vocabulary, X \u001b[38;5;241m=\u001b[39m \u001b[38;5;28mself\u001b[39m\u001b[38;5;241m.\u001b[39m_count_vocab(raw_documents, \u001b[38;5;28mself\u001b[39m\u001b[38;5;241m.\u001b[39mfixed_vocabulary_)\n\u001b[1;32m   1385\u001b[0m \u001b[38;5;28;01mif\u001b[39;00m \u001b[38;5;28mself\u001b[39m\u001b[38;5;241m.\u001b[39mbinary:\n\u001b[1;32m   1386\u001b[0m     X\u001b[38;5;241m.\u001b[39mdata\u001b[38;5;241m.\u001b[39mfill(\u001b[38;5;241m1\u001b[39m)\n",
      "File \u001b[0;32m~/anaconda3/lib/python3.11/site-packages/sklearn/feature_extraction/text.py:1270\u001b[0m, in \u001b[0;36mCountVectorizer._count_vocab\u001b[0;34m(self, raw_documents, fixed_vocab)\u001b[0m\n\u001b[1;32m   1268\u001b[0m \u001b[38;5;28;01mfor\u001b[39;00m doc \u001b[38;5;129;01min\u001b[39;00m raw_documents:\n\u001b[1;32m   1269\u001b[0m     feature_counter \u001b[38;5;241m=\u001b[39m {}\n\u001b[0;32m-> 1270\u001b[0m     \u001b[38;5;28;01mfor\u001b[39;00m feature \u001b[38;5;129;01min\u001b[39;00m analyze(doc):\n\u001b[1;32m   1271\u001b[0m         \u001b[38;5;28;01mtry\u001b[39;00m:\n\u001b[1;32m   1272\u001b[0m             feature_idx \u001b[38;5;241m=\u001b[39m vocabulary[feature]\n",
      "File \u001b[0;32m~/anaconda3/lib/python3.11/site-packages/sklearn/feature_extraction/text.py:110\u001b[0m, in \u001b[0;36m_analyze\u001b[0;34m(doc, analyzer, tokenizer, ngrams, preprocessor, decoder, stop_words)\u001b[0m\n\u001b[1;32m    108\u001b[0m \u001b[38;5;28;01melse\u001b[39;00m:\n\u001b[1;32m    109\u001b[0m     \u001b[38;5;28;01mif\u001b[39;00m preprocessor \u001b[38;5;129;01mis\u001b[39;00m \u001b[38;5;129;01mnot\u001b[39;00m \u001b[38;5;28;01mNone\u001b[39;00m:\n\u001b[0;32m--> 110\u001b[0m         doc \u001b[38;5;241m=\u001b[39m preprocessor(doc)\n\u001b[1;32m    111\u001b[0m     \u001b[38;5;28;01mif\u001b[39;00m tokenizer \u001b[38;5;129;01mis\u001b[39;00m \u001b[38;5;129;01mnot\u001b[39;00m \u001b[38;5;28;01mNone\u001b[39;00m:\n\u001b[1;32m    112\u001b[0m         doc \u001b[38;5;241m=\u001b[39m tokenizer(doc)\n",
      "File \u001b[0;32m~/anaconda3/lib/python3.11/site-packages/sklearn/feature_extraction/text.py:68\u001b[0m, in \u001b[0;36m_preprocess\u001b[0;34m(doc, accent_function, lower)\u001b[0m\n\u001b[1;32m     49\u001b[0m \u001b[38;5;250m\u001b[39m\u001b[38;5;124;03m\"\"\"Chain together an optional series of text preprocessing steps to\u001b[39;00m\n\u001b[1;32m     50\u001b[0m \u001b[38;5;124;03mapply to a document.\u001b[39;00m\n\u001b[1;32m     51\u001b[0m \n\u001b[0;32m   (...)\u001b[0m\n\u001b[1;32m     65\u001b[0m \u001b[38;5;124;03m    preprocessed string\u001b[39;00m\n\u001b[1;32m     66\u001b[0m \u001b[38;5;124;03m\"\"\"\u001b[39;00m\n\u001b[1;32m     67\u001b[0m \u001b[38;5;28;01mif\u001b[39;00m lower:\n\u001b[0;32m---> 68\u001b[0m     doc \u001b[38;5;241m=\u001b[39m doc\u001b[38;5;241m.\u001b[39mlower()\n\u001b[1;32m     69\u001b[0m \u001b[38;5;28;01mif\u001b[39;00m accent_function \u001b[38;5;129;01mis\u001b[39;00m \u001b[38;5;129;01mnot\u001b[39;00m \u001b[38;5;28;01mNone\u001b[39;00m:\n\u001b[1;32m     70\u001b[0m     doc \u001b[38;5;241m=\u001b[39m accent_function(doc)\n",
      "\u001b[0;31mAttributeError\u001b[0m: 'csr_matrix' object has no attribute 'lower'"
     ]
    }
   ],
   "source": [
    "# Instantiate (w/ Stop Words)\n",
    "cvec = CountVectorizer(stop_words = 'english')\n",
    "\n",
    "\n",
    "# Fit the vectorizer on our corpus.\n",
    "cvec.fit(X_train)\n",
    "\n",
    "# Transform the corpus.\n",
    "X_train = cvec.transform(X_train)\n",
    "X_test = cvec.transform(X_test)\n"
   ]
  },
  {
   "cell_type": "code",
   "execution_count": null,
   "id": "d97f9a4a",
   "metadata": {
    "scrolled": false
   },
   "outputs": [],
   "source": [
    "X_train.shape"
   ]
  },
  {
   "cell_type": "code",
   "execution_count": null,
   "id": "2c950bb4",
   "metadata": {},
   "outputs": [],
   "source": [
    "type(X_train)"
   ]
  },
  {
   "cell_type": "code",
   "execution_count": null,
   "id": "e91621bb",
   "metadata": {},
   "outputs": [],
   "source": [
    "X_train.todense()\n"
   ]
  },
  {
   "cell_type": "code",
   "execution_count": null,
   "id": "050be61d",
   "metadata": {
    "scrolled": false
   },
   "outputs": [],
   "source": [
    "#copy more of lesson 505 in here if I want to try\n",
    "#but this may not work for the turnin prelims"
   ]
  },
  {
   "cell_type": "code",
   "execution_count": null,
   "id": "5b897fb2",
   "metadata": {},
   "outputs": [],
   "source": []
  },
  {
   "cell_type": "code",
   "execution_count": null,
   "id": "910195d4",
   "metadata": {},
   "outputs": [],
   "source": [
    "\n"
   ]
  },
  {
   "cell_type": "code",
   "execution_count": null,
   "id": "b732a723",
   "metadata": {},
   "outputs": [],
   "source": []
  }
 ],
 "metadata": {
  "kernelspec": {
   "display_name": "Python 3 (ipykernel)",
   "language": "python",
   "name": "python3"
  },
  "language_info": {
   "codemirror_mode": {
    "name": "ipython",
    "version": 3
   },
   "file_extension": ".py",
   "mimetype": "text/x-python",
   "name": "python",
   "nbconvert_exporter": "python",
   "pygments_lexer": "ipython3",
   "version": "3.11.4"
  }
 },
 "nbformat": 4,
 "nbformat_minor": 5
}

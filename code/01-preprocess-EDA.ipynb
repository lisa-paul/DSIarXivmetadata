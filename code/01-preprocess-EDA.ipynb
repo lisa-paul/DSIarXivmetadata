{
 "cells": [
  {
   "cell_type": "markdown",
   "id": "f6c281db",
   "metadata": {},
   "source": [
    "### ArXiv Metadata Analysis\n",
    "#### Capstone Project, DSI-911 cohort, Lisa Paul\n",
    "\n",
    "**Current Notebook:** 01-preprocess-EDA\n",
    ">Run this Second to read-in testing & training CSV data, then encode pred-column, add features (columns)"
   ]
  },
  {
   "cell_type": "code",
   "execution_count": 1,
   "id": "37fac508",
   "metadata": {},
   "outputs": [
    {
     "name": "stderr",
     "output_type": "stream",
     "text": [
      "[nltk_data] Downloading package punkt to /Users/lisapaul/nltk_data...\n",
      "[nltk_data]   Package punkt is already up-to-date!\n",
      "[nltk_data] Downloading package stopwords to\n",
      "[nltk_data]     /Users/lisapaul/nltk_data...\n",
      "[nltk_data]   Package stopwords is already up-to-date!\n"
     ]
    },
    {
     "data": {
      "text/plain": [
       "True"
      ]
     },
     "execution_count": 1,
     "metadata": {},
     "output_type": "execute_result"
    }
   ],
   "source": [
    "import pandas as pd\n",
    "from sklearn.preprocessing import LabelEncoder\n",
    "\n",
    "from nltk.tokenize import sent_tokenize, word_tokenize, RegexpTokenizer\n",
    "from nltk.corpus import stopwords\n",
    "\n",
    "import nltk\n",
    "nltk.download('punkt')  # For word tokenization\n",
    "nltk.download('stopwords')  # For stopwords removal"
   ]
  },
  {
   "cell_type": "code",
   "execution_count": 2,
   "id": "dbd456d7",
   "metadata": {},
   "outputs": [],
   "source": [
    "data_path = '../data/'\n",
    "\n",
    "orig_df = pd.read_csv(data_path + \"arxiv_meta_aa-single-cat.csv\")"
   ]
  },
  {
   "cell_type": "code",
   "execution_count": 3,
   "id": "f59f9f97",
   "metadata": {},
   "outputs": [
    {
     "data": {
      "text/html": [
       "<div>\n",
       "<style scoped>\n",
       "    .dataframe tbody tr th:only-of-type {\n",
       "        vertical-align: middle;\n",
       "    }\n",
       "\n",
       "    .dataframe tbody tr th {\n",
       "        vertical-align: top;\n",
       "    }\n",
       "\n",
       "    .dataframe thead th {\n",
       "        text-align: right;\n",
       "    }\n",
       "</style>\n",
       "<table border=\"1\" class=\"dataframe\">\n",
       "  <thead>\n",
       "    <tr style=\"text-align: right;\">\n",
       "      <th></th>\n",
       "      <th>id</th>\n",
       "      <th>submitter</th>\n",
       "      <th>authors</th>\n",
       "      <th>title</th>\n",
       "      <th>comments</th>\n",
       "      <th>journal-ref</th>\n",
       "      <th>doi</th>\n",
       "      <th>report-no</th>\n",
       "      <th>categories</th>\n",
       "      <th>license</th>\n",
       "      <th>abstract</th>\n",
       "      <th>versions</th>\n",
       "      <th>update_date</th>\n",
       "      <th>authors_parsed</th>\n",
       "    </tr>\n",
       "  </thead>\n",
       "  <tbody>\n",
       "    <tr>\n",
       "      <th>0</th>\n",
       "      <td>704.0001</td>\n",
       "      <td>Pavel Nadolsky</td>\n",
       "      <td>C. Bal\\'azs, E. L. Berger, P. M. Nadolsky, C.-...</td>\n",
       "      <td>Calculation of prompt diphoton production cros...</td>\n",
       "      <td>37 pages, 15 figures; published version</td>\n",
       "      <td>Phys.Rev.D76:013009,2007</td>\n",
       "      <td>10.1103/PhysRevD.76.013009</td>\n",
       "      <td>ANL-HEP-PR-07-12</td>\n",
       "      <td>hep-ph</td>\n",
       "      <td>NaN</td>\n",
       "      <td>A fully differential calculation in perturba...</td>\n",
       "      <td>[{'version': 'v1', 'created': 'Mon, 2 Apr 2007...</td>\n",
       "      <td>2008-11-26</td>\n",
       "      <td>[['Balázs', 'C.', ''], ['Berger', 'E. L.', '']...</td>\n",
       "    </tr>\n",
       "  </tbody>\n",
       "</table>\n",
       "</div>"
      ],
      "text/plain": [
       "         id       submitter  \\\n",
       "0  704.0001  Pavel Nadolsky   \n",
       "\n",
       "                                             authors  \\\n",
       "0  C. Bal\\'azs, E. L. Berger, P. M. Nadolsky, C.-...   \n",
       "\n",
       "                                               title  \\\n",
       "0  Calculation of prompt diphoton production cros...   \n",
       "\n",
       "                                  comments               journal-ref  \\\n",
       "0  37 pages, 15 figures; published version  Phys.Rev.D76:013009,2007   \n",
       "\n",
       "                          doi         report-no categories license  \\\n",
       "0  10.1103/PhysRevD.76.013009  ANL-HEP-PR-07-12     hep-ph     NaN   \n",
       "\n",
       "                                            abstract  \\\n",
       "0    A fully differential calculation in perturba...   \n",
       "\n",
       "                                            versions update_date  \\\n",
       "0  [{'version': 'v1', 'created': 'Mon, 2 Apr 2007...  2008-11-26   \n",
       "\n",
       "                                      authors_parsed  \n",
       "0  [['Balázs', 'C.', ''], ['Berger', 'E. L.', '']...  "
      ]
     },
     "execution_count": 3,
     "metadata": {},
     "output_type": "execute_result"
    }
   ],
   "source": [
    "orig_df.head(1)\n"
   ]
  },
  {
   "cell_type": "code",
   "execution_count": 4,
   "id": "ad476f17",
   "metadata": {},
   "outputs": [
    {
     "data": {
      "text/plain": [
       "(32031, 14)"
      ]
     },
     "execution_count": 4,
     "metadata": {},
     "output_type": "execute_result"
    }
   ],
   "source": [
    "#training file has only 32031 records (because of previous cleaning)\n",
    "orig_df.shape"
   ]
  },
  {
   "cell_type": "code",
   "execution_count": 5,
   "id": "c1e0b25a",
   "metadata": {},
   "outputs": [],
   "source": [
    "#function to encode the categories (research fields)\n",
    "def encode_cats(df):\n",
    "    # Make a copy of the DataFrame to avoid modifying the original data\n",
    "    encoded_df = df.copy()\n",
    "    \n",
    "    # which column to encode? confusingly: \"categories\"\n",
    "    categorical_column = encoded_df['categories']\n",
    "\n",
    "    #Instance the encoder\n",
    "    le = LabelEncoder()\n",
    "\n",
    "    # Encode 'categories' column\n",
    "    encoded_df['numeric_categories'] = le.fit_transform(categorical_column)\n",
    "    \n",
    "    return encoded_df\n"
   ]
  },
  {
   "cell_type": "code",
   "execution_count": 6,
   "id": "4a771b79",
   "metadata": {},
   "outputs": [
    {
     "data": {
      "text/plain": [
       "Index(['id', 'submitter', 'authors', 'title', 'comments', 'journal-ref', 'doi',\n",
       "       'report-no', 'categories', 'license', 'abstract', 'versions',\n",
       "       'update_date', 'authors_parsed', 'numeric_categories'],\n",
       "      dtype='object')"
      ]
     },
     "execution_count": 6,
     "metadata": {},
     "output_type": "execute_result"
    }
   ],
   "source": [
    "#Call this function exactly once (per df) to create df w/ one extra column\n",
    "#Cleaner code would be to call this //within// the feature-adding function\n",
    "encoded_df = encode_cats(orig_df)\n",
    "\n",
    "encoded_df.columns"
   ]
  },
  {
   "cell_type": "code",
   "execution_count": 7,
   "id": "b0358ab4",
   "metadata": {},
   "outputs": [
    {
     "data": {
      "text/plain": [
       "(32031, 15)"
      ]
     },
     "execution_count": 7,
     "metadata": {},
     "output_type": "execute_result"
    }
   ],
   "source": [
    "encoded_df.shape\n",
    "#correctly has 1 extra column now"
   ]
  },
  {
   "cell_type": "code",
   "execution_count": 8,
   "id": "d316d153",
   "metadata": {},
   "outputs": [
    {
     "name": "stdout",
     "output_type": "stream",
     "text": [
      "Unique CategoryNames:\t 120 \n",
      "Unique CategoryNums:\t 120\n"
     ]
    }
   ],
   "source": [
    "print (\"Unique CategoryNames:\\t\", \n",
    "        len(encoded_df['categories'].unique()),  \n",
    "       \"\\nUnique CategoryNums:\\t\", \n",
    "       len(encoded_df['numeric_categories'].unique())\n",
    "      )"
   ]
  },
  {
   "cell_type": "code",
   "execution_count": null,
   "id": "67a07a69",
   "metadata": {},
   "outputs": [],
   "source": []
  },
  {
   "cell_type": "markdown",
   "id": "c99c0629",
   "metadata": {},
   "source": [
    "#### Function to drop the columns I don't want."
   ]
  },
  {
   "cell_type": "code",
   "execution_count": 9,
   "id": "fc58dc69",
   "metadata": {},
   "outputs": [],
   "source": [
    "def drop_cols(df):\n",
    "    \n",
    "    cols_to_keep = ['id', 'title', 'abstract', 'categories', 'numeric_categories'\n",
    "]\n",
    "    smaller_df = df[cols_to_keep]\n",
    "    \n",
    "    return smaller_df"
   ]
  },
  {
   "cell_type": "code",
   "execution_count": 10,
   "id": "dc1cb5a7",
   "metadata": {},
   "outputs": [
    {
     "data": {
      "text/plain": [
       "(32031, 5)"
      ]
     },
     "execution_count": 10,
     "metadata": {},
     "output_type": "execute_result"
    }
   ],
   "source": [
    "smaller_df = drop_cols(encoded_df)\n",
    "smaller_df.shape"
   ]
  },
  {
   "cell_type": "code",
   "execution_count": null,
   "id": "13df1714",
   "metadata": {},
   "outputs": [],
   "source": []
  },
  {
   "cell_type": "code",
   "execution_count": null,
   "id": "baec2056",
   "metadata": {},
   "outputs": [],
   "source": []
  },
  {
   "cell_type": "code",
   "execution_count": null,
   "id": "e908f2fc",
   "metadata": {},
   "outputs": [],
   "source": []
  },
  {
   "cell_type": "markdown",
   "id": "a117d42a",
   "metadata": {},
   "source": [
    "#### The **add_text_features** function will add some new features (based on NLP of the abstract).\n",
    "> I used chatGPT to suggest solutions to type errors\n"
   ]
  },
  {
   "cell_type": "code",
   "execution_count": 11,
   "id": "8e02f2f6",
   "metadata": {},
   "outputs": [],
   "source": [
    "\n",
    "def add_text_features(df):\n",
    "    \n",
    "    featured_df = df.copy()\n",
    "    \n",
    "    #Create new column containing list of the words in the abstract (for each row)\n",
    "    abs_tokens = featured_df['abstract'].apply(word_tokenize)\n",
    "    featured_df['abs_tokens'] = abs_tokens\n",
    "\n",
    "    # Create new column containing abstract wordlist _without_ stopwords\n",
    "    # apply stopword removal across all rows\n",
    "    abs_no_sw = abs_tokens.apply(lambda tokens: [token for token in tokens if token.lower() not in stopwords.words('english')])\n",
    "    featured_df['abs_tokens_no_sw'] = abs_no_sw\n",
    "    \n",
    "    \n",
    "    # Most additional features are based on previous stopword removal: \n",
    "    \n",
    "    # Create new column for the count of unique words\n",
    "    unique_wc = abs_no_sw.apply(tuple).nunique()\n",
    "    featured_df['unique_wc'] = unique_wc\n",
    "\n",
    "    # Create new column for the total word count\n",
    "    wc = abs_no_sw.apply(len).sum()\n",
    "    featured_df['wc'] = wc\n",
    "\n",
    "    # Create new column for the ratio of unique wc to total wc\n",
    "    unique_words_ratio = unique_wc / wc\n",
    "    featured_df['unique_words_ratio'] = unique_words_ratio\n",
    "\n",
    "\n",
    "    return featured_df"
   ]
  },
  {
   "cell_type": "markdown",
   "id": "5918723b",
   "metadata": {},
   "source": [
    "#### More thoughts about add_text_features():\n",
    "\n",
    "#### Another less-interpretable approach  would be to do Vectorizing, instead of creating all these data manually.\n",
    "#####     TF-IDF would be better than CountVectorizer because:\n",
    "> - considers the context of the entire dataframe, and penalizes common words across rows\n",
    "> - thus \"ignoring\" the noisy ones that aren't useful for classifying\n",
    "        \n",
    "##### Assuming, however, that I manually created more features, here are a few that could be interesting or useful:\n",
    "> Create new columns for 1 or 2 parts of speech (e.g., noun, adjective)\n",
    ">   - nltk.pos_tag() \n",
    "\n",
    "> Or, features which require original abstract, not tokenized:\n",
    ">   - Create a new column for counting special characters\n",
    ">   - Add a column for general char_count\n",
    ">   - Same for readability scores such as Flesch-Kincaid or SMOG\n",
    "\n"
   ]
  },
  {
   "cell_type": "code",
   "execution_count": 12,
   "id": "a3cc7e30",
   "metadata": {},
   "outputs": [],
   "source": [
    "#convert these comments to markdown:\n",
    "#original plan was to use 2 separate csv chunks of the original dataset\n",
    "#But, after slow performance processing 2 dataframes, coupled with extremely large files that caused GitHub warnings\n",
    "#I decided to go with Train Test Split method after all, which only needs 1 dataframe here."
   ]
  },
  {
   "cell_type": "code",
   "execution_count": null,
   "id": "a56275a2",
   "metadata": {},
   "outputs": [],
   "source": [
    "%%time \n",
    "#call on only 1 dataframe, because more  is out of scope for \"prelim study\"\n",
    "featured_df = add_text_features(smaller_df)\n"
   ]
  },
  {
   "cell_type": "code",
   "execution_count": null,
   "id": "63decf34",
   "metadata": {
    "scrolled": false
   },
   "outputs": [],
   "source": [
    "featured_df.shape"
   ]
  },
  {
   "cell_type": "code",
   "execution_count": null,
   "id": "c4565497",
   "metadata": {},
   "outputs": [],
   "source": [
    "featured_df.columns"
   ]
  },
  {
   "cell_type": "code",
   "execution_count": null,
   "id": "8ebc75e0",
   "metadata": {},
   "outputs": [],
   "source": [
    "featured_df['abs_tokens']"
   ]
  },
  {
   "cell_type": "code",
   "execution_count": null,
   "id": "9e360e4b",
   "metadata": {},
   "outputs": [],
   "source": [
    "#Save enhanced dataframes to a csv file:\n",
    "\n",
    "featured_df.to_csv(data_path + \"train_featured.csv\", index=False)\n"
   ]
  },
  {
   "cell_type": "code",
   "execution_count": null,
   "id": "9033a16d",
   "metadata": {},
   "outputs": [],
   "source": []
  },
  {
   "cell_type": "markdown",
   "id": "7769d13e",
   "metadata": {},
   "source": [
    "Next, let's see if any features will be useful to use for prediction modelling:"
   ]
  },
  {
   "cell_type": "code",
   "execution_count": null,
   "id": "ba596e40",
   "metadata": {},
   "outputs": [],
   "source": [
    "#correlations heatmap"
   ]
  },
  {
   "cell_type": "code",
   "execution_count": null,
   "id": "636fe015",
   "metadata": {},
   "outputs": [],
   "source": []
  },
  {
   "cell_type": "code",
   "execution_count": null,
   "id": "0451fb3a",
   "metadata": {},
   "outputs": [],
   "source": [
    "#hey, self, for the above ~~3 sections, this may go faster if I get into colab or quite some progs\n"
   ]
  }
 ],
 "metadata": {
  "kernelspec": {
   "display_name": "Python 3 (ipykernel)",
   "language": "python",
   "name": "python3"
  },
  "language_info": {
   "codemirror_mode": {
    "name": "ipython",
    "version": 3
   },
   "file_extension": ".py",
   "mimetype": "text/x-python",
   "name": "python",
   "nbconvert_exporter": "python",
   "pygments_lexer": "ipython3",
   "version": "3.11.4"
  }
 },
 "nbformat": 4,
 "nbformat_minor": 5
}

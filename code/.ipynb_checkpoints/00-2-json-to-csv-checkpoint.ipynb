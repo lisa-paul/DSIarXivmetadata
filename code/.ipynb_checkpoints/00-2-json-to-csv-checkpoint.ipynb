{
 "cells": [
  {
   "cell_type": "markdown",
   "id": "8924c636",
   "metadata": {},
   "source": [
    "### ArXiv Metadata Analysis\n",
    "#### Capstone Project, DSI-911 cohort, Lisa Paul\n",
    "\n",
    "**Current Notebook:** 00-3-json-to-csv\n",
    ">Run this First to read-in JSON data and perform initial data cleaning step"
   ]
  },
  {
   "cell_type": "code",
   "execution_count": 1,
   "id": "c580d7d5",
   "metadata": {},
   "outputs": [],
   "source": [
    "import pandas as pd"
   ]
  },
  {
   "cell_type": "code",
   "execution_count": 5,
   "id": "115fe5b7",
   "metadata": {},
   "outputs": [],
   "source": [
    "#original data = 3 gigabyte JSON file\n",
    "#Then it was split into 48 smaller pieces, with these shell commands:\n",
    "#jq -c . < arxiv-metadata-oai-snapshot.json | gsplit -l 50000 --additional-suffix=.json - chunks_json/arxiv_meta_\n",
    "\n",
    "# Selecting input files for training and validation data\n",
    "# Using \"pseudorandomly\" chosen files within the -aa through -bv chunks\n",
    "# The original dataset is sorted by publication date\n",
    "# (as described in https://info.arxiv.org/help/arxiv_identifier_for_services.html)\n",
    "# This approach should partially mitigate any potential effects of date-related biases on the dataset\n",
    "\n",
    "train_file = 'arxiv_meta_aa.json'\n",
    "valid_file = 'arxiv_meta_bb.json'"
   ]
  },
  {
   "cell_type": "code",
   "execution_count": 6,
   "id": "e168671f",
   "metadata": {},
   "outputs": [],
   "source": [
    "#reads JSON file, outputs dataframe w/o multiple-\"categoried\" rows\n",
    "def single_cat(curr_file):\n",
    "    data_path = '../data/'\n",
    "    subdir = 'chunks_json/'\n",
    "\n",
    "    df = pd.read_json(data_path+subdir + curr_file, lines = True)\n",
    "\n",
    "    # Drop rows where 'categories' column contains multiple values\n",
    "    df = df[~df['categories'].str.contains('\\s')]\n",
    "\n",
    "    return df\n",
    "\n",
    "#writes out the dataframe to a csv file\n",
    "def df_to_csv(df, curr_file):\n",
    "    \n",
    "    #create filename\n",
    "    csv_partial = data_path + curr_file.rstrip('.json')\n",
    "    csv_file = csv_partial + '-single-cat' + '.csv'\n",
    "    \n",
    "    #output to filename\n",
    "    df.to_csv(csv_file, index=False)\n",
    "\n",
    "    return csv_file"
   ]
  },
  {
   "cell_type": "code",
   "execution_count": 10,
   "id": "c799b12b",
   "metadata": {},
   "outputs": [],
   "source": [
    "train_df = single_cat(train_file)\n",
    "df_to_csv(train_df, train_file)\n",
    "\n",
    "valid_df = single_cat(valid_file)\n",
    "df_to_csv(valid_df, valid_file)"
   ]
  },
  {
   "cell_type": "code",
   "execution_count": 15,
   "id": "af9da8c4",
   "metadata": {},
   "outputs": [
    {
     "data": {
      "text/html": [
       "<div>\n",
       "<style scoped>\n",
       "    .dataframe tbody tr th:only-of-type {\n",
       "        vertical-align: middle;\n",
       "    }\n",
       "\n",
       "    .dataframe tbody tr th {\n",
       "        vertical-align: top;\n",
       "    }\n",
       "\n",
       "    .dataframe thead th {\n",
       "        text-align: right;\n",
       "    }\n",
       "</style>\n",
       "<table border=\"1\" class=\"dataframe\">\n",
       "  <thead>\n",
       "    <tr style=\"text-align: right;\">\n",
       "      <th></th>\n",
       "      <th>id</th>\n",
       "      <th>submitter</th>\n",
       "      <th>authors</th>\n",
       "      <th>title</th>\n",
       "      <th>comments</th>\n",
       "      <th>journal-ref</th>\n",
       "      <th>doi</th>\n",
       "      <th>report-no</th>\n",
       "      <th>categories</th>\n",
       "      <th>license</th>\n",
       "      <th>abstract</th>\n",
       "      <th>versions</th>\n",
       "      <th>update_date</th>\n",
       "      <th>authors_parsed</th>\n",
       "    </tr>\n",
       "  </thead>\n",
       "  <tbody>\n",
       "    <tr>\n",
       "      <th>2</th>\n",
       "      <td>2009.08499</td>\n",
       "      <td>Benjamin Kay</td>\n",
       "      <td>B. P. Kay, J. P. Schiffer, S. J. Freeman, T. L...</td>\n",
       "      <td>Consistency of nucleon-transfer sum rules in w...</td>\n",
       "      <td>7 pages, 4 figures</td>\n",
       "      <td>Phys. Rev. C 103, 024319 (2021)</td>\n",
       "      <td>10.1103/PhysRevC.103.024319</td>\n",
       "      <td>None</td>\n",
       "      <td>nucl-ex</td>\n",
       "      <td>http://arxiv.org/licenses/nonexclusive-distrib...</td>\n",
       "      <td>Nucleon-transfer sum rules have been assesse...</td>\n",
       "      <td>[{'version': 'v1', 'created': 'Thu, 17 Sep 202...</td>\n",
       "      <td>2021-03-03</td>\n",
       "      <td>[[Kay, B. P., ], [Schiffer, J. P., ], [Freeman...</td>\n",
       "    </tr>\n",
       "  </tbody>\n",
       "</table>\n",
       "</div>"
      ],
      "text/plain": [
       "           id     submitter  \\\n",
       "2  2009.08499  Benjamin Kay   \n",
       "\n",
       "                                             authors  \\\n",
       "2  B. P. Kay, J. P. Schiffer, S. J. Freeman, T. L...   \n",
       "\n",
       "                                               title            comments  \\\n",
       "2  Consistency of nucleon-transfer sum rules in w...  7 pages, 4 figures   \n",
       "\n",
       "                       journal-ref                          doi report-no  \\\n",
       "2  Phys. Rev. C 103, 024319 (2021)  10.1103/PhysRevC.103.024319      None   \n",
       "\n",
       "  categories                                            license  \\\n",
       "2    nucl-ex  http://arxiv.org/licenses/nonexclusive-distrib...   \n",
       "\n",
       "                                            abstract  \\\n",
       "2    Nucleon-transfer sum rules have been assesse...   \n",
       "\n",
       "                                            versions update_date  \\\n",
       "2  [{'version': 'v1', 'created': 'Thu, 17 Sep 202...  2021-03-03   \n",
       "\n",
       "                                      authors_parsed  \n",
       "2  [[Kay, B. P., ], [Schiffer, J. P., ], [Freeman...  "
      ]
     },
     "execution_count": 15,
     "metadata": {},
     "output_type": "execute_result"
    }
   ],
   "source": [
    "#confirm interim return vals if debug needed\n",
    "#confirm any output files, & their contents\n",
    "\n",
    "train_df.shape, valid_df.shape\n",
    "train_df.head(1)\n",
    "valid_df.head(1)"
   ]
  },
  {
   "cell_type": "markdown",
   "id": "e79963ad",
   "metadata": {},
   "source": [
    "### Next file: EDA \n",
    "#### (using the CSVs we now have)"
   ]
  },
  {
   "cell_type": "code",
   "execution_count": null,
   "id": "1f61784e",
   "metadata": {},
   "outputs": [],
   "source": []
  },
  {
   "cell_type": "code",
   "execution_count": null,
   "id": "b31b79f2",
   "metadata": {},
   "outputs": [],
   "source": []
  },
  {
   "cell_type": "code",
   "execution_count": null,
   "id": "6895ac83",
   "metadata": {},
   "outputs": [],
   "source": []
  }
 ],
 "metadata": {
  "kernelspec": {
   "display_name": "Python 3 (ipykernel)",
   "language": "python",
   "name": "python3"
  },
  "language_info": {
   "codemirror_mode": {
    "name": "ipython",
    "version": 3
   },
   "file_extension": ".py",
   "mimetype": "text/x-python",
   "name": "python",
   "nbconvert_exporter": "python",
   "pygments_lexer": "ipython3",
   "version": "3.11.4"
  }
 },
 "nbformat": 4,
 "nbformat_minor": 5
}

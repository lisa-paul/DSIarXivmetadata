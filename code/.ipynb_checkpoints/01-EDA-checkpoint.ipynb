{
 "cells": [
  {
   "cell_type": "markdown",
   "id": "d2ae1c5a",
   "metadata": {},
   "source": [
    "### ArXiv Metadata Analysis\n",
    "#### Capstone Project, DSI-911 cohort, Lisa Paul\n",
    "\n",
    "**Current Notebook:** 01-preprocess-EDA\n",
    ">Run this Second to read-in testing & training CSV data, then encode pred-column, add features (columns)"
   ]
  },
  {
   "cell_type": "code",
   "execution_count": null,
   "id": "cd007420",
   "metadata": {},
   "outputs": [],
   "source": [
    "import pandas as pd"
   ]
  },
  {
   "cell_type": "code",
   "execution_count": null,
   "id": "81157da0",
   "metadata": {},
   "outputs": [],
   "source": []
  },
  {
   "cell_type": "code",
   "execution_count": null,
   "id": "b4f3f3ba",
   "metadata": {},
   "outputs": [],
   "source": []
  },
  {
   "cell_type": "code",
   "execution_count": null,
   "id": "a3c34423",
   "metadata": {},
   "outputs": [],
   "source": []
  },
  {
   "cell_type": "code",
   "execution_count": null,
   "id": "79855c3c",
   "metadata": {},
   "outputs": [],
   "source": [
    "#function to encode the categories"
   ]
  },
  {
   "cell_type": "code",
   "execution_count": null,
   "id": "b0db29a5",
   "metadata": {},
   "outputs": [],
   "source": [
    "#function to add them features"
   ]
  },
  {
   "cell_type": "code",
   "execution_count": null,
   "id": "cde37cc6",
   "metadata": {},
   "outputs": [],
   "source": [
    "#INPLACE = TRUE (assign return val of gfunc back to itself)\n",
    "\n",
    "#func() encoding \n",
    "#& func() feature-ing on training\n",
    "\n",
    "#func() encoding \n",
    "#& func() feature-ing on testing\n"
   ]
  },
  {
   "cell_type": "code",
   "execution_count": null,
   "id": "7e8f4071",
   "metadata": {},
   "outputs": [],
   "source": []
  },
  {
   "cell_type": "code",
   "execution_count": null,
   "id": "66bbee3f",
   "metadata": {},
   "outputs": [],
   "source": []
  }
 ],
 "metadata": {
  "kernelspec": {
   "display_name": "Python 3 (ipykernel)",
   "language": "python",
   "name": "python3"
  },
  "language_info": {
   "codemirror_mode": {
    "name": "ipython",
    "version": 3
   },
   "file_extension": ".py",
   "mimetype": "text/x-python",
   "name": "python",
   "nbconvert_exporter": "python",
   "pygments_lexer": "ipython3",
   "version": "3.11.4"
  }
 },
 "nbformat": 4,
 "nbformat_minor": 5
}
